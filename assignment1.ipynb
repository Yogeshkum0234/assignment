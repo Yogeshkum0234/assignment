{
 "cells": [
  {
   "cell_type": "code",
   "execution_count": 1,
   "id": "e199a216-17fa-46ed-8628-8161cf9224a6",
   "metadata": {},
   "outputs": [],
   "source": [
    "'''Q1. Explain with an example each when to use a for loop and a while loop.'''\n",
    "#ans\n",
    "'''\n",
    "Use a for loop to iterate over an array.\n",
    "Use a for loop when you know the loop should execute n times.\n",
    "Use a while loop for reading a file into a variable.\n",
    "Use a while loop when asking for user input.\n",
    "Use a while loop when the increment value is nonstandard.\n",
    "'''"
   ]
  },
  {
   "cell_type": "code",
   "execution_count": 2,
   "id": "3d8933c5-1565-4564-a8a0-458c9e5572e4",
   "metadata": {},
   "outputs": [],
   "source": [
    "'''Q2. Write a python program to print the sum and product of the first 10 natural numbers using for\n",
    "and while loop.\n",
    "'''\n",
    "l=[1,2,3,4,5,6,7,8,9,10]"
   ]
  },
  {
   "cell_type": "code",
   "execution_count": 4,
   "id": "39d056db-c039-4202-b82d-da0a52471c73",
   "metadata": {},
   "outputs": [
    {
     "name": "stdout",
     "output_type": "stream",
     "text": [
      "55\n",
      "3628800\n"
     ]
    }
   ],
   "source": [
    "sum=0\n",
    "product=1\n",
    "for i in l:\n",
    "    sum=sum+i\n",
    "    product=product*i\n",
    "print(sum)\n",
    "print(product)"
   ]
  },
  {
   "cell_type": "code",
   "execution_count": 2,
   "id": "f806ae6a-7fab-4a53-b701-f790e4852e37",
   "metadata": {},
   "outputs": [
    {
     "name": "stdin",
     "output_type": "stream",
     "text": [
      "enter the units of electricity consumed in a month 310\n"
     ]
    },
    {
     "name": "stdout",
     "output_type": "stream",
     "text": [
      "2250\n"
     ]
    }
   ],
   "source": [
    "'''Q3. Create a python program to compute the electricity bill for a household.\n",
    "The per-unit charges in rupees are as follows: For the first 100 units, the user will be charged Rs. 4.5 per\n",
    "unit, for the next 100 units, the user will be charged Rs. 6 per unit, and for the next 100 units, the user will\n",
    "be charged Rs. 10 per unit, After 300 units and above the user will be charged Rs. 20 per unit.\n",
    "You are required to take the units of electricity consumed in a month from the user as input.\n",
    "Your program must pass this test case: when the unit of electricity consumed by the user in a month is\n",
    "310, the total electricity bill should be 2250.'''\n",
    "\n",
    "charge=0\n",
    "units=int(input(\"enter the units of electricity consumed in a month\"))\n",
    "if units<=100:\n",
    "    charge=units*4.5\n",
    "elif units>100 and units<=200:\n",
    "    charge=450+((units-100)*6)\n",
    "elif units>200 and units<=300:\n",
    "    charge=450+600+((units-200)*10)\n",
    "elif units>300:\n",
    "    charge=450+600+1000+((units-300)*20)\n",
    "print(charge)"
   ]
  },
  {
   "cell_type": "code",
   "execution_count": 1,
   "id": "323f7ed1-6475-4287-b4ef-13e084518a5c",
   "metadata": {},
   "outputs": [
    {
     "name": "stdin",
     "output_type": "stream",
     "text": [
      "enter the number of units:  310\n"
     ]
    },
    {
     "name": "stdout",
     "output_type": "stream",
     "text": [
      "2250\n"
     ]
    }
   ],
   "source": [
    "'''\n",
    "unit = int(input(\"enter the number of units: \"))\n",
    "if(unit <= 100):\n",
    "    fh = unit * 4.5\n",
    "    print(fh)\n",
    "elif(unit <= 200):\n",
    "    newUnit = unit - 100\n",
    "    print((100 * 4.5) + (newUnit * 6))\n",
    "elif(unit <= 300):\n",
    "    newUnit = unit - 200\n",
    "    print(450 + 600 + (newUnit * 10))\n",
    "else:\n",
    "    newUnit = unit - 300\n",
    "    print((450 + 600 + 1000) + newUnit * 20)\n",
    "\n",
    "'''"
   ]
  },
  {
   "cell_type": "code",
   "execution_count": 13,
   "id": "556ec709-cdb8-40c4-b44d-65a10bbc7b62",
   "metadata": {},
   "outputs": [
    {
     "name": "stdout",
     "output_type": "stream",
     "text": [
      "[1, 2, 3, 4, 5, 6, 7, 8, 9, 10, 11, 12, 13, 14, 15, 16, 17, 18, 19, 20, 21, 22, 23, 24, 25, 26, 27, 28, 29, 30, 31, 32, 33, 34, 35, 36, 37, 38, 39, 40, 41, 42, 43, 44, 45, 46, 47, 48, 49, 50, 51, 52, 53, 54, 55, 56, 57, 58, 59, 60, 61, 62, 63, 64, 65, 66, 67, 68, 69, 70, 71, 72, 73, 74, 75, 76, 77, 78, 79, 80, 81, 82, 83, 84, 85, 86, 87, 88, 89, 90, 91, 92, 93, 94, 95, 96, 97, 98, 99, 100]\n"
     ]
    }
   ],
   "source": [
    "'''Q4. Create a list of numbers from 1 to 100. Use for loop and while loop to calculate the cube of each\n",
    "number and if the cube of that number is divisible by 4 or 5 then append that number in a list and print\n",
    "that list.'''\n",
    "\n",
    "l1=list(range(1,101))\n",
    "print(l1)"
   ]
  },
  {
   "cell_type": "code",
   "execution_count": 16,
   "id": "f2b70120-ed3d-427d-a9d7-61f6c0e455c1",
   "metadata": {},
   "outputs": [
    {
     "name": "stdout",
     "output_type": "stream",
     "text": [
      "[8, 64, 125, 216, 512, 1000, 1728, 2744, 3375, 4096, 5832, 8000, 10648, 13824, 15625, 17576, 21952, 27000, 32768, 39304, 42875, 46656, 54872, 64000, 74088, 85184, 91125, 97336, 110592, 125000, 140608, 157464, 166375, 175616, 195112, 216000, 238328, 262144, 274625, 287496, 314432, 343000, 373248, 405224, 421875, 438976, 474552, 512000, 551368, 592704, 614125, 636056, 681472, 729000, 778688, 830584, 857375, 884736, 941192, 1000000]\n"
     ]
    }
   ],
   "source": [
    "l2=[]\n",
    "l3=[]\n",
    "for i in l1:\n",
    "    l2.append(i*i*i)\n",
    "for j in l2:\n",
    "    if j%4==0 or j%5==0:\n",
    "        l3.append(j)\n",
    "print(l3)"
   ]
  },
  {
   "cell_type": "code",
   "execution_count": 17,
   "id": "023d0821-4a4e-4246-bdd3-67fa6e99ada0",
   "metadata": {},
   "outputs": [
    {
     "name": "stdout",
     "output_type": "stream",
     "text": [
      "no. of vowels 12\n"
     ]
    }
   ],
   "source": [
    "'''Q5. Write a program to filter count vowels in the below-given string.\n",
    "string = \"I want to become a data scientist\" '''\n",
    "\n",
    "count=0\n",
    "str=\"I want to become a data scientist\"\n",
    "vowels=(\"aeiouAEIOU\")\n",
    "for alphabet in str:\n",
    "    if alphabet in vowels:\n",
    "        count=count+1\n",
    "print(\"no. of vowels\",count)"
   ]
  }
 ],
 "metadata": {
  "kernelspec": {
   "display_name": "Python 3 (ipykernel)",
   "language": "python",
   "name": "python3"
  },
  "language_info": {
   "codemirror_mode": {
    "name": "ipython",
    "version": 3
   },
   "file_extension": ".py",
   "mimetype": "text/x-python",
   "name": "python",
   "nbconvert_exporter": "python",
   "pygments_lexer": "ipython3",
   "version": "3.10.8"
  }
 },
 "nbformat": 4,
 "nbformat_minor": 5
}
